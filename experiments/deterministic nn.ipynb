{
 "cells": [
  {
   "cell_type": "code",
   "execution_count": 1,
   "metadata": {},
   "outputs": [],
   "source": [
    "import torch\n",
    "from torch import nn\n",
    "import sys\n",
    "sys.path.append('..')\n",
    "import pandas as pd\n",
    "from train_utils import load_signal_data, make_performance_uncertainty_plot, load_datasets\n",
    "import os\n",
    "from sklearn.metrics import roc_auc_score, average_precision_score\n",
    "import matplotlib.pyplot as plt\n",
    "import numpy as np\n",
    "import seaborn as sns\n",
    "\n",
    "sns.set_context(\"paper\")\n",
    "sns.plotting_context(\"paper\")\n",
    "sns.set_style(\"whitegrid\")\n",
    "sns.set_palette(\"colorblind\")\n",
    "\n",
    "%load_ext autoreload\n",
    "%autoreload 2"
   ]
  },
  {
   "cell_type": "code",
   "execution_count": 2,
   "metadata": {},
   "outputs": [],
   "source": [
    "train_data, test_data = load_datasets('../data/processed')"
   ]
  },
  {
   "cell_type": "code",
   "execution_count": 3,
   "metadata": {},
   "outputs": [],
   "source": [
    "class MLP(nn.Module):\n",
    "    def __init__(self):\n",
    "        super(MLP, self).__init__()\n",
    "        self.layers = nn.Sequential(\n",
    "            nn.Linear(44, 128),\n",
    "            nn.ReLU(),\n",
    "            nn.Linear(128, 128),\n",
    "            nn.ReLU(),\n",
    "            nn.Linear(128, 1)\n",
    "        )\n",
    "        \n",
    "    def forward(self, x):\n",
    "        x = x.view(x.size(0), -1)\n",
    "        x = self.layers(x)\n",
    "        return x\n"
   ]
  },
  {
   "cell_type": "code",
   "execution_count": 4,
   "metadata": {},
   "outputs": [],
   "source": [
    "model = MLP()"
   ]
  },
  {
   "cell_type": "code",
   "execution_count": 5,
   "metadata": {},
   "outputs": [],
   "source": [
    "from torch.utils import data\n",
    "\n",
    "train_loader = data.DataLoader(train_data, batch_size=128, shuffle=True)\n",
    "valid_loader = data.DataLoader(test_data, batch_size=512, shuffle=False)"
   ]
  },
  {
   "cell_type": "code",
   "execution_count": 6,
   "metadata": {},
   "outputs": [],
   "source": [
    "optimizer = torch.optim.Adam(model.parameters())\n",
    "loss_fn = nn.BCEWithLogitsLoss(pos_weight=torch.Tensor([1/.0845]))\n"
   ]
  },
  {
   "cell_type": "code",
   "execution_count": 7,
   "metadata": {
    "scrolled": false
   },
   "outputs": [
    {
     "name": "stdout",
     "output_type": "stream",
     "text": [
      "epoch : 1, train loss : 0.8981, valid loss : 0.7639\n",
      "epoch : 2, train loss : 0.7818, valid loss : 0.7487\n",
      "epoch : 3, train loss : 0.7622, valid loss : 0.7762\n",
      "epoch : 4, train loss : 0.7397, valid loss : 0.7473\n",
      "epoch : 5, train loss : 0.7234, valid loss : 0.7343\n",
      "epoch : 6, train loss : 0.7182, valid loss : 0.7151\n",
      "epoch : 7, train loss : 0.7049, valid loss : 0.7638\n",
      "epoch : 8, train loss : 0.6918, valid loss : 0.8022\n",
      "epoch : 9, train loss : 0.6854, valid loss : 0.7313\n",
      "epoch : 10, train loss : 0.6672, valid loss : 0.7126\n",
      "epoch : 11, train loss : 0.6625, valid loss : 0.7099\n",
      "epoch : 12, train loss : 0.6512, valid loss : 0.7037\n",
      "epoch : 13, train loss : 0.6513, valid loss : 0.6989\n",
      "epoch : 14, train loss : 0.6459, valid loss : 0.7388\n",
      "epoch : 15, train loss : 0.6398, valid loss : 0.6987\n",
      "epoch : 16, train loss : 0.6276, valid loss : 0.7013\n",
      "epoch : 17, train loss : 0.6234, valid loss : 0.6775\n",
      "epoch : 18, train loss : 0.6192, valid loss : 0.7024\n",
      "epoch : 19, train loss : 0.6123, valid loss : 0.7580\n",
      "epoch : 20, train loss : 0.6151, valid loss : 0.7071\n",
      "epoch : 21, train loss : 0.6047, valid loss : 0.6907\n",
      "epoch : 22, train loss : 0.6029, valid loss : 0.7162\n",
      "epoch : 23, train loss : 0.6070, valid loss : 0.7372\n",
      "epoch : 24, train loss : 0.5936, valid loss : 0.7158\n",
      "epoch : 25, train loss : 0.5863, valid loss : 0.7293\n",
      "epoch : 26, train loss : 0.5855, valid loss : 0.6951\n",
      "epoch : 27, train loss : 0.5868, valid loss : 0.7111\n",
      "epoch : 28, train loss : 0.5833, valid loss : 0.7359\n",
      "epoch : 29, train loss : 0.5756, valid loss : 0.7467\n",
      "epoch : 30, train loss : 0.5707, valid loss : 0.7155\n",
      "epoch : 31, train loss : 0.5680, valid loss : 0.7094\n",
      "epoch : 32, train loss : 0.5645, valid loss : 0.7117\n"
     ]
    }
   ],
   "source": [
    "mean_train_losses = []\n",
    "mean_valid_losses = []\n",
    "valid_acc_list = []\n",
    "epochs = 32\n",
    "# 32\n",
    "\n",
    "for epoch in range(epochs):\n",
    "    model.train()\n",
    "    \n",
    "    train_losses = []\n",
    "    valid_losses = []\n",
    "    for i, (images, labels) in enumerate(train_loader):\n",
    "        \n",
    "        optimizer.zero_grad()\n",
    "        \n",
    "        outputs = model(images)\n",
    "        loss = loss_fn(outputs.squeeze(-1), labels)\n",
    "        loss.backward()\n",
    "        optimizer.step()\n",
    "        \n",
    "        train_losses.append(loss.item())            \n",
    "    model.eval()\n",
    "    with torch.no_grad():\n",
    "        for i, (images, labels) in enumerate(valid_loader):\n",
    "            outputs = model(images)\n",
    "            loss = loss_fn(outputs.squeeze(-1), labels)\n",
    "            valid_losses.append(loss.item())\n",
    "            \n",
    "    mean_train_losses.append(np.mean(train_losses))\n",
    "    mean_valid_losses.append(np.mean(valid_losses))\n",
    "    \n",
    "    print('epoch : {}, train loss : {:.4f}, valid loss : {:.4f}'\\\n",
    "         .format(epoch+1, np.mean(train_losses), np.mean(valid_losses)))"
   ]
  },
  {
   "cell_type": "code",
   "execution_count": 12,
   "metadata": {},
   "outputs": [],
   "source": [
    "def predictive_entropy(y_):\n",
    "    \n",
    "    try: \n",
    "        y_ = y_.squeeze(-1)\n",
    "        \n",
    "    except:\n",
    "        pass\n",
    "        \n",
    "    if y_.ndim == 2:\n",
    "    \n",
    "        return -(y_ * np.log2(y_ + 1e-9)).sum(-1)\n",
    "    \n",
    "    else:\n",
    "        return -(y_ * np.log2(y_ + 1e-9) + ((1-y_) * np.log2(1 - y_ + 1e-9)))"
   ]
  },
  {
   "cell_type": "code",
   "execution_count": 13,
   "metadata": {},
   "outputs": [],
   "source": [
    "train_data, train_labels, test_data, test_labels = load_signal_data('../data/processed/')"
   ]
  },
  {
   "cell_type": "code",
   "execution_count": 14,
   "metadata": {},
   "outputs": [],
   "source": [
    "with torch.no_grad():\n",
    "    predictions = torch.sigmoid(model(test_data).squeeze(-1)).numpy()"
   ]
  },
  {
   "cell_type": "code",
   "execution_count": 15,
   "metadata": {},
   "outputs": [],
   "source": [
    "uncertainties = predictive_entropy(predictions)"
   ]
  },
  {
   "cell_type": "code",
   "execution_count": 16,
   "metadata": {},
   "outputs": [],
   "source": [
    "X_train_raw, X_test_raw = (pd.read_csv('../data/processed/X_train_raw.csv'),\n",
    "                          pd.read_csv('../data/processed/X_test_raw.csv'))\n",
    "\n",
    "X_train_processed, X_test_processed = (pd.read_csv('../data/processed/X_train_processed.csv'),\n",
    "                          pd.read_csv('../data/processed/X_test_processed.csv'))"
   ]
  },
  {
   "cell_type": "code",
   "execution_count": 17,
   "metadata": {},
   "outputs": [],
   "source": [
    "mean_age = X_train_processed['age'].mean()"
   ]
  },
  {
   "cell_type": "code",
   "execution_count": 18,
   "metadata": {},
   "outputs": [],
   "source": [
    "dataset_dir = '../data/processed/'\n",
    "\n",
    "y_newborn = pd.read_csv(os.path.join(dataset_dir, 'y_newborns.csv'), squeeze=True)\n",
    "X_newborn = pd.read_csv(os.path.join(dataset_dir, 'X_newborns.csv'))\n",
    "X_newborn['age'] = mean_age\n",
    "\n",
    "labels_newborn: torch.Tensor = torch.from_numpy(y_newborn.values)\n",
    "data_newborn: torch.Tensor = torch.from_numpy(X_newborn.values).float()\n"
   ]
  },
  {
   "cell_type": "code",
   "execution_count": 19,
   "metadata": {},
   "outputs": [],
   "source": [
    "with torch.no_grad():\n",
    "    predictions_newborn = torch.sigmoid(model(data_newborn).squeeze(-1)).numpy()\n",
    "    uncertainties_newborn = predictive_entropy(predictions_newborn)\n",
    "    \n",
    "\n"
   ]
  },
  {
   "cell_type": "code",
   "execution_count": 20,
   "metadata": {},
   "outputs": [
    {
     "data": {
      "text/plain": [
       "<matplotlib.legend.Legend at 0x10c71aa20>"
      ]
     },
     "execution_count": 20,
     "metadata": {},
     "output_type": "execute_result"
    },
    {
     "data": {
      "image/png": "[encoded data removed]",
      "text/plain": [
       "<Figure size 432x288 with 1 Axes>"
      ]
     },
     "metadata": {
      "needs_background": "light"
     },
     "output_type": "display_data"
    }
   ],
   "source": [
    "sns.distplot(uncertainties, label='Testing Data')\n",
    "sns.distplot(uncertainties_newborn, label='Newborns')\n",
    "plt.xlabel('Standard Deviation')\n",
    "plt.ylabel('Density')\n",
    "plt.legend()"
   ]
  },
  {
   "cell_type": "code",
   "execution_count": 21,
   "metadata": {},
   "outputs": [
    {
     "data": {
      "text/plain": [
       "0.97256243"
      ]
     },
     "execution_count": 21,
     "metadata": {},
     "output_type": "execute_result"
    }
   ],
   "source": [
    "uncertainties_newborn.mean() / uncertainties.mean()"
   ]
  },
  {
   "cell_type": "code",
   "execution_count": 22,
   "metadata": {},
   "outputs": [],
   "source": [
    "data_random = torch.rand_like(data_newborn)\n",
    "with torch.no_grad():\n",
    "    predictions_random = torch.sigmoid(model(data_random).squeeze(-1)).numpy()\n",
    "\n",
    "    uncertainties_random = predictive_entropy(predictions_random)\n",
    "\n"
   ]
  },
  {
   "cell_type": "code",
   "execution_count": 23,
   "metadata": {
    "scrolled": true
   },
   "outputs": [
    {
     "data": {
      "text/plain": [
       "<matplotlib.legend.Legend at 0x1a2b227048>"
      ]
     },
     "execution_count": 23,
     "metadata": {},
     "output_type": "execute_result"
    },
    {
     "data": {
      "image/png": "[encoded data removed]",
      "text/plain": [
       "<Figure size 432x288 with 1 Axes>"
      ]
     },
     "metadata": {
      "needs_background": "light"
     },
     "output_type": "display_data"
    }
   ],
   "source": [
    "sns.distplot(uncertainties, label='Testing Data')\n",
    "sns.distplot(uncertainties_random, label='Random')\n",
    "plt.xlabel('Standard Deviation')\n",
    "plt.ylabel('Density')\n",
    "plt.legend()"
   ]
  },
  {
   "cell_type": "code",
   "execution_count": 24,
   "metadata": {
    "scrolled": true
   },
   "outputs": [
    {
     "data": {
      "text/plain": [
       "0.101397045"
      ]
     },
     "execution_count": 24,
     "metadata": {},
     "output_type": "execute_result"
    }
   ],
   "source": [
    "uncertainties_random.mean() / uncertainties.mean()"
   ]
  },
  {
   "cell_type": "markdown",
   "metadata": {},
   "source": [
    "# Detecting Incorrect Classifications"
   ]
  },
  {
   "cell_type": "code",
   "execution_count": 25,
   "metadata": {},
   "outputs": [],
   "source": [
    "\n",
    "predictions_softmax = np.vstack(([1 - predictions, predictions])).T\n",
    "\n",
    "\n",
    "succes_labels = np.zeros(len(predictions))\n",
    "correct_predictions = predictions_softmax.argmax(-1) == test_labels.numpy()\n",
    "succes_labels[correct_predictions] = 1\n",
    "\n",
    "error_labels = 1 - succes_labels\n"
   ]
  },
  {
   "cell_type": "code",
   "execution_count": 26,
   "metadata": {},
   "outputs": [
    {
     "data": {
      "text/plain": [
       "0.7792252158010153"
      ]
     },
     "execution_count": 26,
     "metadata": {},
     "output_type": "execute_result"
    }
   ],
   "source": [
    "roc_auc_score(succes_labels, predictions_softmax.max(-1))"
   ]
  },
  {
   "cell_type": "code",
   "execution_count": 27,
   "metadata": {
    "scrolled": true
   },
   "outputs": [
    {
     "data": {
      "text/plain": [
       "0.9338000764706491"
      ]
     },
     "execution_count": 27,
     "metadata": {},
     "output_type": "execute_result"
    }
   ],
   "source": [
    "average_precision_score(succes_labels, predictions_softmax.max(-1))"
   ]
  },
  {
   "cell_type": "code",
   "execution_count": 28,
   "metadata": {},
   "outputs": [
    {
     "data": {
      "text/plain": [
       "0.4187317024200051"
      ]
     },
     "execution_count": 28,
     "metadata": {},
     "output_type": "execute_result"
    }
   ],
   "source": [
    "average_precision_score(error_labels, 1 - predictions_softmax.max(-1))"
   ]
  },
  {
   "cell_type": "code",
   "execution_count": 29,
   "metadata": {},
   "outputs": [
    {
     "data": {
      "text/plain": [
       "0.7792252158010153"
      ]
     },
     "execution_count": 29,
     "metadata": {},
     "output_type": "execute_result"
    }
   ],
   "source": [
    "roc_auc_score(error_labels, 1 - predictions_softmax.max(-1))"
   ]
  },
  {
   "cell_type": "markdown",
   "metadata": {},
   "source": [
    "# Detecting Out Of Domain"
   ]
  },
  {
   "cell_type": "code",
   "execution_count": 31,
   "metadata": {},
   "outputs": [],
   "source": [
    "predictions_cat = np.concatenate((predictions, predictions_newborn))\n",
    "predictions_cat_softmax = np.vstack(([1 - predictions_cat, predictions_cat])).T"
   ]
  },
  {
   "cell_type": "code",
   "execution_count": 32,
   "metadata": {},
   "outputs": [],
   "source": [
    "in_domain = np.ones(len(predictions_cat))\n",
    "in_domain[len(predictions_newborn):] = 0\n",
    "\n",
    "out_domain = 1 - in_domain"
   ]
  },
  {
   "cell_type": "code",
   "execution_count": 33,
   "metadata": {},
   "outputs": [
    {
     "data": {
      "text/plain": [
       "0.48660415174916166"
      ]
     },
     "execution_count": 33,
     "metadata": {},
     "output_type": "execute_result"
    }
   ],
   "source": [
    "roc_auc_score(in_domain, predictions_cat_softmax.max(-1))"
   ]
  },
  {
   "cell_type": "code",
   "execution_count": 34,
   "metadata": {},
   "outputs": [
    {
     "data": {
      "text/plain": [
       "0.586413620973285"
      ]
     },
     "execution_count": 34,
     "metadata": {},
     "output_type": "execute_result"
    }
   ],
   "source": [
    "average_precision_score(in_domain, predictions_cat_softmax.max(-1))"
   ]
  },
  {
   "cell_type": "code",
   "execution_count": 35,
   "metadata": {},
   "outputs": [
    {
     "data": {
      "text/plain": [
       "0.4263384194842073"
      ]
     },
     "execution_count": 35,
     "metadata": {},
     "output_type": "execute_result"
    }
   ],
   "source": [
    "average_precision_score(out_domain, predictions_cat_softmax.min(-1))"
   ]
  }
 ],
 "metadata": {
  "kernelspec": {
   "display_name": "Python 3",
   "language": "python",
   "name": "python3"
  },
  "language_info": {
   "codemirror_mode": {
    "name": "ipython",
    "version": 3
   },
   "file_extension": ".py",
   "mimetype": "text/x-python",
   "name": "python",
   "nbconvert_exporter": "python",
   "pygments_lexer": "ipython3",
   "version": "3.6.8"
  }
 },
 "nbformat": 4,
 "nbformat_minor": 2
}
